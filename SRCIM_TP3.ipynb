{
  "nbformat": 4,
  "nbformat_minor": 0,
  "metadata": {
    "colab": {
      "name": "SRCIM_TP3.ipynb",
      "provenance": [],
      "collapsed_sections": [],
      "toc_visible": true
    },
    "kernelspec": {
      "display_name": "Python 3",
      "name": "python3"
    },
    "accelerator": "GPU"
  },
  "cells": [
    {
      "cell_type": "markdown",
      "metadata": {
        "id": "Mr892Idllsqo"
      },
      "source": [
        "# **Part I - Loading the dataset**"
      ]
    },
    {
      "cell_type": "code",
      "metadata": {
        "id": "jSZHFyru9uMm"
      },
      "source": [
        "#from google.colab import drive\n",
        "#drive.mount('/content/drive')"
      ],
      "execution_count": null,
      "outputs": []
    },
    {
      "cell_type": "code",
      "metadata": {
        "colab": {
          "base_uri": "https://localhost:8080/"
        },
        "id": "hyoRK_b_jnZE",
        "outputId": "8a5ac3e7-7732-453b-e01f-c8ba4990f970"
      },
      "source": [
        "#1) ensure the correct version of Tensorflow is installed, 2.1.0.\n",
        "#!pip install tensorflow==2.1.0\n",
        "import tensorflow as tf\n",
        "import matplotlib.pyplot as plt\n",
        "print(tf.__version__)\n",
        "\n",
        "#run tutorial or lab3\n",
        "boolSRCIM = True\n",
        "boolAugumentation = False"
      ],
      "execution_count": null,
      "outputs": [
        {
          "output_type": "stream",
          "text": [
            "2.3.0\n"
          ],
          "name": "stdout"
        }
      ]
    },
    {
      "cell_type": "code",
      "metadata": {
        "colab": {
          "base_uri": "https://localhost:8080/"
        },
        "id": "j3_42V9SkS76",
        "outputId": "3701e1d2-cafd-4d3e-ef02-79bdaebdefe9"
      },
      "source": [
        "#2) download the dataset .zip from the Google Drive link\n",
        "if boolSRCIM:\n",
        "  !gdown --id \"1rtLYlLQ9QIMEb5v2eH1D9mu7FpgOqzYq\" #lab3\n",
        "else:\n",
        "  !gdown --id \"1To2deR_oTXn6yL2hTvVplqt3Iv2gMcPp\" #tutorial"
      ],
      "execution_count": null,
      "outputs": [
        {
          "output_type": "stream",
          "text": [
            "Downloading...\n",
            "From: https://drive.google.com/uc?id=1rtLYlLQ9QIMEb5v2eH1D9mu7FpgOqzYq\n",
            "To: /content/dataset_lab3_SRCIM_400.zip\n",
            "\r0.00B [00:00, ?B/s]\r4.72MB [00:00, 43.0MB/s]\r13.5MB [00:00, 82.3MB/s]\n"
          ],
          "name": "stdout"
        }
      ]
    },
    {
      "cell_type": "code",
      "metadata": {
        "id": "P0kN8qzBkxdx"
      },
      "source": [
        "#3) extract the dataset folder.\n",
        "import os      #to get access to the file system\n",
        "import zipfile #to unzip the data\n",
        "\n",
        "if boolSRCIM:\n",
        "  local_zip = '/content/dataset_lab3_SRCIM_400.zip'\n",
        "  zip_ref = zipfile.ZipFile(local_zip, 'r')\n",
        "  zip_ref.extractall('/tmp')\n",
        "  zip_ref.close()\n",
        "  #zip content extracted to the directory data_root\n",
        "  data_root = \"/tmp/dataset\"\n",
        "else: # TUTORIAL\n",
        "  local_zip = '/content/tutorial_dataset_SRCIM.zip'\n",
        "  zip_ref = zipfile.ZipFile(local_zip, 'r')\n",
        "  zip_ref.extractall('/tmp')\n",
        "  zip_ref.close()\n",
        "  #zip content extracted to the directory data_root\n",
        "  data_root = \"/tmp/tutorial_dataset\""
      ],
      "execution_count": null,
      "outputs": []
    },
    {
      "cell_type": "markdown",
      "metadata": {
        "id": "Y7TJ0addl8ul"
      },
      "source": [
        "# **Part II – Pre-processing the data**"
      ]
    },
    {
      "cell_type": "code",
      "metadata": {
        "id": "yb9LgKjjmUAe"
      },
      "source": [
        "#1) prepare configurations\n",
        "#1.1) all images resized to 224x224\n",
        "IMAGE_SHAPE = (224,224)\n",
        "TRAINING_DATA_DIR = str(data_root)\n",
        "#1.2) rescale pixel to 0-1 and separate data between validation and training data\n",
        "if boolAugumentation:\n",
        "  datagen_kwargs = dict(\n",
        "    rescale = 1./255,\n",
        "    validation_split = .20,\n",
        "    # Data Augmentation arguments for better validation\n",
        "    width_shift_range = 0.15, #0.15\n",
        "    height_shift_range = 0.15, #0.15\n",
        "    horizontal_flip = True\n",
        "  )\n",
        "else:\n",
        "  datagen_kwargs = dict(\n",
        "    rescale = 1./255,\n",
        "    validation_split = .20\n",
        "  )  "
      ],
      "execution_count": null,
      "outputs": []
    },
    {
      "cell_type": "code",
      "metadata": {
        "colab": {
          "base_uri": "https://localhost:8080/"
        },
        "id": "YId48YbJnUqp",
        "outputId": "bc71d65a-4893-45c3-e5f0-12d29d684b9f"
      },
      "source": [
        "#2) generate batches of image data\n",
        "train_datagen = tf.keras.preprocessing.image.ImageDataGenerator(**datagen_kwargs) #**datagen_kwargs\n",
        "train_generator = train_datagen.flow_from_directory(\n",
        "    TRAINING_DATA_DIR,\n",
        "    subset = \"training\",\n",
        "    shuffle = True,\n",
        "    target_size = IMAGE_SHAPE\n",
        ")\n",
        "#preprocessing_function = tf.keras.applications.vgg16.preprocess_input\n",
        "valid_datagen = tf.keras.preprocessing.image.ImageDataGenerator(**datagen_kwargs) #**datagen_kwargs\n",
        "valid_generator = valid_datagen.flow_from_directory(\n",
        "    TRAINING_DATA_DIR,\n",
        "    subset = \"validation\",\n",
        "    shuffle = True,\n",
        "    target_size = IMAGE_SHAPE\n",
        ")"
      ],
      "execution_count": null,
      "outputs": [
        {
          "output_type": "stream",
          "text": [
            "Found 320 images belonging to 2 classes.\n",
            "Found 80 images belonging to 2 classes.\n"
          ],
          "name": "stdout"
        }
      ]
    },
    {
      "cell_type": "code",
      "metadata": {
        "colab": {
          "base_uri": "https://localhost:8080/",
          "height": 163
        },
        "id": "wewnkb-fwUvH",
        "outputId": "9580a914-af85-473e-9e2a-07565a6510d1"
      },
      "source": [
        "#3) see images\n",
        "imgs, labels = next(train_generator)\n",
        "fid, axes = plt.subplots(1, 10, figsize=(20,20))\n",
        "axes = axes.flatten()\n",
        "for img, ax in zip(imgs, axes):\n",
        "    ax.imshow(img)\n",
        "    ax.axis('off')\n",
        "plt.tight_layout()\n",
        "plt.show()"
      ],
      "execution_count": null,
      "outputs": [
        {
          "output_type": "display_data",
          "data": {
            "image/png": "[encoded data removed]",
            "text/plain": [
              "<Figure size 1440x1440 with 10 Axes>"
            ]
          },
          "metadata": {
            "tags": [],
            "needs_background": "light"
          }
        }
      ]
    },
    {
      "cell_type": "markdown",
      "metadata": {
        "id": "5PN_dFKVoMPg"
      },
      "source": [
        "# **Part III – Building the CNN model from scratch**"
      ]
    },
    {
      "cell_type": "code",
      "metadata": {
        "id": "LLFKyaUNoShr"
      },
      "source": [
        "#1) instantiate a Sequential model\n",
        "model = tf.keras.models.Sequential()"
      ],
      "execution_count": null,
      "outputs": []
    },
    {
      "cell_type": "code",
      "metadata": {
        "id": "vxxRwlDFof-q"
      },
      "source": [
        "#2) define the architecture of the CNN\n",
        "#2.1) add activation layer (CONVOLUTIONAL LAYER)\n",
        "model.add(tf.keras.layers.Conv2D(\n",
        "    filters = 64,    #             #NUMBER OF FILTERS TO BE USED FOR CONVOLUTION\n",
        "    kernel_size = (3,3),          #FILTER SIZE\n",
        "    input_shape = (224, 224, 3),  #INPUT SHAPE OF THE IMAGES(NUMBER OF ROWS, NUMBER OF COLUMNS, color CHANNELS)\n",
        "    padding='same',\n",
        "    activation = 'relu'           #ACTIVATION FUNCTION\n",
        "))"
      ],
      "execution_count": null,
      "outputs": []
    },
    {
      "cell_type": "code",
      "metadata": {
        "id": "w8SAFAiRpmmf"
      },
      "source": [
        "#3) add pooling layer \n",
        "model.add(tf.keras.layers.MaxPooling2D(pool_size = (2,2), strides=2)) #strides=2"
      ],
      "execution_count": null,
      "outputs": []
    },
    {
      "cell_type": "code",
      "metadata": {
        "id": "MOLoKnJapo5v"
      },
      "source": [
        "#4.1) add second convolutional layer\n",
        "model.add(tf.keras.layers.Conv2D(\n",
        "    filters = 128,#128\n",
        "    kernel_size = (3,3),\n",
        "    padding='same',\n",
        "    activation = 'relu'\n",
        "))\n",
        "model.add(tf.keras.layers.MaxPooling2D(pool_size = (2,2), strides=2))\n",
        "\n",
        "#4.2) add third convolutional layer\n",
        "model.add(tf.keras.layers.Conv2D(\n",
        "    filters = 256,#256\n",
        "    kernel_size = (3,3),\n",
        "    padding='same',\n",
        "    activation = 'relu'\n",
        "))\n",
        "model.add(tf.keras.layers.MaxPooling2D(pool_size = (2,2), strides=2))"
      ],
      "execution_count": null,
      "outputs": []
    },
    {
      "cell_type": "code",
      "metadata": {
        "id": "EHxXTIqBp6Tp"
      },
      "source": [
        "#5) flatten the pooled feature map into a column (vector) to be passed as input to the artificial neural network\n",
        "model.add(tf.keras.layers.Flatten())\n",
        "#model.add(tf.keras.layers.Dropout(0.3)) #0.5"
      ],
      "execution_count": null,
      "outputs": []
    },
    {
      "cell_type": "code",
      "metadata": {
        "id": "Pej9uat0qFDb"
      },
      "source": [
        "#6) add the fully-connected layer with a rectified linear unit (ReLU) activation\n",
        "model.add(tf.keras.layers.Dense(256)) \n",
        "model.add(tf.keras.layers.Activation('relu'))"
      ],
      "execution_count": null,
      "outputs": []
    },
    {
      "cell_type": "code",
      "metadata": {
        "id": "NHuj-8DpqYNm"
      },
      "source": [
        "#7) add the output layer\n",
        "model.add(tf.keras.layers.Dense(train_generator.num_classes, activation='sigmoid')) #sigmoid para binary e softmax para categorical"
      ],
      "execution_count": null,
      "outputs": []
    },
    {
      "cell_type": "code",
      "metadata": {
        "colab": {
          "base_uri": "https://localhost:8080/"
        },
        "id": "ucMI5Mh0qtBG",
        "outputId": "cc6f7db9-6f15-4a77-f5a8-553d17dfcc3d"
      },
      "source": [
        "#8) build the model and print a summary of the architecture\n",
        "model.build([None, 224, 224, 3])\n",
        "model.summary()"
      ],
      "execution_count": null,
      "outputs": [
        {
          "output_type": "stream",
          "text": [
            "Model: \"sequential\"\n",
            "_________________________________________________________________\n",
            "Layer (type)                 Output Shape              Param #   \n",
            "=================================================================\n",
            "conv2d (Conv2D)              (None, 224, 224, 64)      1792      \n",
            "_________________________________________________________________\n",
            "max_pooling2d (MaxPooling2D) (None, 112, 112, 64)      0         \n",
            "_________________________________________________________________\n",
            "conv2d_1 (Conv2D)            (None, 112, 112, 128)     73856     \n",
            "_________________________________________________________________\n",
            "max_pooling2d_1 (MaxPooling2 (None, 56, 56, 128)       0         \n",
            "_________________________________________________________________\n",
            "conv2d_2 (Conv2D)            (None, 56, 56, 256)       295168    \n",
            "_________________________________________________________________\n",
            "max_pooling2d_2 (MaxPooling2 (None, 28, 28, 256)       0         \n",
            "_________________________________________________________________\n",
            "flatten (Flatten)            (None, 200704)            0         \n",
            "_________________________________________________________________\n",
            "dense (Dense)                (None, 256)               51380480  \n",
            "_________________________________________________________________\n",
            "activation (Activation)      (None, 256)               0         \n",
            "_________________________________________________________________\n",
            "dense_1 (Dense)              (None, 2)                 514       \n",
            "=================================================================\n",
            "Total params: 51,751,810\n",
            "Trainable params: 51,751,810\n",
            "Non-trainable params: 0\n",
            "_________________________________________________________________\n"
          ],
          "name": "stdout"
        }
      ]
    },
    {
      "cell_type": "code",
      "metadata": {
        "id": "yRB5RaVGq5b4"
      },
      "source": [
        "#9) compile the model\n",
        "\n",
        "optimizer = tf.keras.optimizers.Adam(lr=1e-4) #learning_rate=0.0001\n",
        "model.compile( #lr=1e-3\n",
        "    optimizer = optimizer,\n",
        "    loss = 'binary_crossentropy', \n",
        "    metrics = ['acc']\n",
        ")"
      ],
      "execution_count": null,
      "outputs": []
    },
    {
      "cell_type": "markdown",
      "metadata": {
        "id": "3qbgC2KSrMG6"
      },
      "source": [
        "# **Part IV – Model training and validation**"
      ]
    },
    {
      "cell_type": "code",
      "metadata": {
        "colab": {
          "base_uri": "https://localhost:8080/"
        },
        "id": "7Bw9TDB2rPUO",
        "outputId": "723e2e47-8cb8-4fac-fe82-d317126f999a"
      },
      "source": [
        "#1) fit model to the training data\n",
        "import numpy as np\n",
        "import warnings\n",
        "warnings.filterwarnings(\"ignore\")\n",
        "\n",
        "callbacks = [tf.keras.callbacks.EarlyStopping(patience=12)]\n",
        "\n",
        "steps_per_epoch = np.ceil(train_generator.samples/train_generator.batch_size)\n",
        "val_steps_per_epoch = np.ceil(valid_generator.samples/valid_generator.batch_size)\n",
        "hist = model.fit(\n",
        "    train_generator,\n",
        "    epochs = 20,\n",
        "    verbose = 1,\n",
        "    callbacks = callbacks,\n",
        "    steps_per_epoch = steps_per_epoch,\n",
        "    validation_data = valid_generator,\n",
        "    validation_steps = val_steps_per_epoch\n",
        ").history\n"
      ],
      "execution_count": null,
      "outputs": [
        {
          "output_type": "stream",
          "text": [
            "Epoch 1/20\n",
            " 2/10 [=====>........................] - ETA: 0s - loss: 0.7019 - acc: 0.5000WARNING:tensorflow:Callbacks method `on_train_batch_end` is slow compared to the batch time (batch time: 0.0332s vs `on_train_batch_end` time: 0.0723s). Check your callbacks.\n",
            "10/10 [==============================] - 2s 217ms/step - loss: 0.6984 - acc: 0.5031 - val_loss: 0.6955 - val_acc: 0.5000\n",
            "Epoch 2/20\n",
            "10/10 [==============================] - 2s 183ms/step - loss: 0.6805 - acc: 0.5500 - val_loss: 0.7024 - val_acc: 0.5000\n",
            "Epoch 3/20\n",
            "10/10 [==============================] - 2s 183ms/step - loss: 0.6639 - acc: 0.5500 - val_loss: 0.7137 - val_acc: 0.4625\n",
            "Epoch 4/20\n",
            "10/10 [==============================] - 2s 180ms/step - loss: 0.6286 - acc: 0.6906 - val_loss: 0.6923 - val_acc: 0.6125\n",
            "Epoch 5/20\n",
            "10/10 [==============================] - 2s 180ms/step - loss: 0.5954 - acc: 0.7156 - val_loss: 0.6801 - val_acc: 0.6000\n",
            "Epoch 6/20\n",
            "10/10 [==============================] - 2s 183ms/step - loss: 0.5335 - acc: 0.7812 - val_loss: 0.6420 - val_acc: 0.7125\n",
            "Epoch 7/20\n",
            "10/10 [==============================] - 2s 179ms/step - loss: 0.4594 - acc: 0.8875 - val_loss: 0.5339 - val_acc: 0.7000\n",
            "Epoch 8/20\n",
            "10/10 [==============================] - 2s 179ms/step - loss: 0.3765 - acc: 0.9094 - val_loss: 0.4149 - val_acc: 0.8625\n",
            "Epoch 9/20\n",
            "10/10 [==============================] - 2s 181ms/step - loss: 0.3065 - acc: 0.9062 - val_loss: 0.3468 - val_acc: 0.8875\n",
            "Epoch 10/20\n",
            "10/10 [==============================] - 2s 180ms/step - loss: 0.2552 - acc: 0.9438 - val_loss: 0.2987 - val_acc: 0.9000\n",
            "Epoch 11/20\n",
            "10/10 [==============================] - 2s 178ms/step - loss: 0.2503 - acc: 0.9125 - val_loss: 0.2657 - val_acc: 0.9375\n",
            "Epoch 12/20\n",
            "10/10 [==============================] - 2s 178ms/step - loss: 0.2267 - acc: 0.9406 - val_loss: 0.3020 - val_acc: 0.9625\n",
            "Epoch 13/20\n",
            "10/10 [==============================] - 2s 178ms/step - loss: 0.2132 - acc: 0.9531 - val_loss: 0.2171 - val_acc: 0.9375\n",
            "Epoch 14/20\n",
            "10/10 [==============================] - 2s 178ms/step - loss: 0.1881 - acc: 0.9531 - val_loss: 0.2315 - val_acc: 0.9125\n",
            "Epoch 15/20\n",
            "10/10 [==============================] - 2s 178ms/step - loss: 0.1815 - acc: 0.9625 - val_loss: 0.2692 - val_acc: 0.9250\n",
            "Epoch 16/20\n",
            "10/10 [==============================] - 2s 179ms/step - loss: 0.1728 - acc: 0.9594 - val_loss: 0.1839 - val_acc: 0.9375\n",
            "Epoch 17/20\n",
            "10/10 [==============================] - 2s 179ms/step - loss: 0.1427 - acc: 0.9625 - val_loss: 0.1381 - val_acc: 0.9500\n",
            "Epoch 18/20\n",
            "10/10 [==============================] - 2s 179ms/step - loss: 0.1424 - acc: 0.9563 - val_loss: 0.1671 - val_acc: 0.9500\n",
            "Epoch 19/20\n",
            "10/10 [==============================] - 2s 180ms/step - loss: 0.1310 - acc: 0.9750 - val_loss: 0.1789 - val_acc: 0.9375\n",
            "Epoch 20/20\n",
            "10/10 [==============================] - 2s 180ms/step - loss: 0.1333 - acc: 0.9656 - val_loss: 0.1256 - val_acc: 0.9625\n"
          ],
          "name": "stdout"
        }
      ]
    },
    {
      "cell_type": "code",
      "metadata": {
        "id": "JVcK5hVmszpL",
        "colab": {
          "base_uri": "https://localhost:8080/",
          "height": 566
        },
        "outputId": "b8811406-110a-4299-a7aa-3751ba0aa167"
      },
      "source": [
        "#2) visualize training history in terms of accuracy and loss\n",
        " \n",
        "plt.figure()\n",
        "plt.ylabel(\"Loss (training and validation)\")\n",
        "plt.xlabel(\"Training Steps\")\n",
        "plt.ylim([0,2])\n",
        "plt.plot(hist[\"loss\"])\n",
        "plt.plot(hist[\"val_loss\"])\n",
        "\n",
        "plt.figure()\n",
        "plt.ylabel(\"Accuracy (training and validation)\")\n",
        "plt.xlabel(\"Training Steps\")\n",
        "plt.ylim([0, 1])\n",
        "plt.plot(hist[\"acc\"])\n",
        "plt.plot(hist[\"val_acc\"])"
      ],
      "execution_count": null,
      "outputs": [
        {
          "output_type": "execute_result",
          "data": {
            "text/plain": [
              "[<matplotlib.lines.Line2D at 0x7fe3d031f588>]"
            ]
          },
          "metadata": {
            "tags": []
          },
          "execution_count": 18
        },
        {
          "output_type": "display_data",
          "data": {
            "image/png": "[encoded data removed]",
            "text/plain": [
              "<Figure size 432x288 with 1 Axes>"
            ]
          },
          "metadata": {
            "tags": [],
            "needs_background": "light"
          }
        },
        {
          "output_type": "display_data",
          "data": {
            "image/png": "[encoded data removed]",
            "text/plain": [
              "<Figure size 432x288 with 1 Axes>"
            ]
          },
          "metadata": {
            "tags": [],
            "needs_background": "light"
          }
        }
      ]
    },
    {
      "cell_type": "markdown",
      "metadata": {
        "id": "D0b1haChwmx9"
      },
      "source": [
        "\n",
        "\n",
        "---\n",
        "\n",
        "# Result"
      ]
    },
    {
      "cell_type": "code",
      "metadata": {
        "colab": {
          "base_uri": "https://localhost:8080/"
        },
        "id": "tkUMWkK2woBr",
        "outputId": "e0179144-98ff-40a2-d250-9f781bbcea25"
      },
      "source": [
        "#3) check the final loss and accuracy results for the validation set\n",
        "final_loss, final_accuracy = model.evaluate(valid_generator, steps = val_steps_per_epoch)\n",
        "print(\"Final loss: {:.2f}\".format(final_loss))\n",
        "print(\"Final accuracy: {:.2f}\".format(final_accuracy*100))"
      ],
      "execution_count": null,
      "outputs": [
        {
          "output_type": "stream",
          "text": [
            "3/3 [==============================] - 0s 62ms/step - loss: 0.1256 - acc: 0.9625\n",
            "Final loss: 0.13\n",
            "Final accuracy: 96.25\n"
          ],
          "name": "stdout"
        }
      ]
    },
    {
      "cell_type": "markdown",
      "metadata": {
        "id": "qKguoyzVmwe8"
      },
      "source": [
        ""
      ]
    },
    {
      "cell_type": "code",
      "metadata": {
        "id": "_njBMODt1SsD"
      },
      "source": [
        "#4) save the trained model\n",
        "result = str(int(final_loss*100)) + \"_\" + str(int(final_accuracy*100))\n",
        "model.save(\"srcim_model\" + result + \".h5\") #save model\n",
        "model.save_weights(\"srcim_model_weights\" + result + \".h5\") #save only the weights"
      ],
      "execution_count": null,
      "outputs": []
    },
    {
      "cell_type": "code",
      "metadata": {
        "colab": {
          "base_uri": "https://localhost:8080/"
        },
        "id": "5QIEeAVTD-Mr",
        "outputId": "df1baa58-e93a-47b8-cc3c-554ddc701389"
      },
      "source": [
        "from google.colab import drive\n",
        "drive.mount('/content/drive')"
      ],
      "execution_count": null,
      "outputs": [
        {
          "output_type": "stream",
          "text": [
            "Drive already mounted at /content/drive; to attempt to forcibly remount, call drive.mount(\"/content/drive\", force_remount=True).\n"
          ],
          "name": "stdout"
        }
      ]
    },
    {
      "cell_type": "code",
      "metadata": {
        "id": "pnDunxakjoNE"
      },
      "source": [
        "#from tensorflow.keras.models import load_model\n",
        "#new_model = load_model('srcim_model23_92.h5')\n",
        "#new_model.summary()\n"
      ],
      "execution_count": null,
      "outputs": []
    },
    {
      "cell_type": "markdown",
      "metadata": {
        "id": "y9LmxUCpuhkR"
      },
      "source": [
        "# **TEAKS**\n",
        "\n",
        "activation \n",
        "\n",
        "number of filters\n",
        "\n",
        "number of layers\n",
        "\n",
        "number of conv layers\n",
        "\n",
        "order of layers"
      ]
    }
  ]
}